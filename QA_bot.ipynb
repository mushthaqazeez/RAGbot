{
  "nbformat": 4,
  "nbformat_minor": 0,
  "metadata": {
    "colab": {
      "provenance": []
    },
    "kernelspec": {
      "name": "python3",
      "display_name": "Python 3"
    },
    "language_info": {
      "name": "python"
    },
    "widgets": {
      "application/vnd.jupyter.widget-state+json": {
        "9436b6ae07ef47d19e2fafca82c301c5": {
          "model_module": "@jupyter-widgets/controls",
          "model_name": "TextModel",
          "model_module_version": "1.5.0",
          "state": {
            "_dom_classes": [],
            "_model_module": "@jupyter-widgets/controls",
            "_model_module_version": "1.5.0",
            "_model_name": "TextModel",
            "_view_count": null,
            "_view_module": "@jupyter-widgets/controls",
            "_view_module_version": "1.5.0",
            "_view_name": "TextView",
            "continuous_update": true,
            "description": "Question:",
            "description_tooltip": null,
            "disabled": false,
            "layout": "IPY_MODEL_58993bf1cc6a42adb17d65a5f5bc08a0",
            "placeholder": "Type your question here",
            "style": "IPY_MODEL_8504f1da1d9c4ccea914f110c53f3104",
            "value": "what is the first letter of the alphabet"
          }
        },
        "58993bf1cc6a42adb17d65a5f5bc08a0": {
          "model_module": "@jupyter-widgets/base",
          "model_name": "LayoutModel",
          "model_module_version": "1.2.0",
          "state": {
            "_model_module": "@jupyter-widgets/base",
            "_model_module_version": "1.2.0",
            "_model_name": "LayoutModel",
            "_view_count": null,
            "_view_module": "@jupyter-widgets/base",
            "_view_module_version": "1.2.0",
            "_view_name": "LayoutView",
            "align_content": null,
            "align_items": null,
            "align_self": null,
            "border": null,
            "bottom": null,
            "display": null,
            "flex": null,
            "flex_flow": null,
            "grid_area": null,
            "grid_auto_columns": null,
            "grid_auto_flow": null,
            "grid_auto_rows": null,
            "grid_column": null,
            "grid_gap": null,
            "grid_row": null,
            "grid_template_areas": null,
            "grid_template_columns": null,
            "grid_template_rows": null,
            "height": null,
            "justify_content": null,
            "justify_items": null,
            "left": null,
            "margin": null,
            "max_height": null,
            "max_width": null,
            "min_height": null,
            "min_width": null,
            "object_fit": null,
            "object_position": null,
            "order": null,
            "overflow": null,
            "overflow_x": null,
            "overflow_y": null,
            "padding": null,
            "right": null,
            "top": null,
            "visibility": null,
            "width": null
          }
        },
        "8504f1da1d9c4ccea914f110c53f3104": {
          "model_module": "@jupyter-widgets/controls",
          "model_name": "DescriptionStyleModel",
          "model_module_version": "1.5.0",
          "state": {
            "_model_module": "@jupyter-widgets/controls",
            "_model_module_version": "1.5.0",
            "_model_name": "DescriptionStyleModel",
            "_view_count": null,
            "_view_module": "@jupyter-widgets/base",
            "_view_module_version": "1.2.0",
            "_view_name": "StyleView",
            "description_width": ""
          }
        },
        "7ea195cce0bd450392ac751c36cac47d": {
          "model_module": "@jupyter-widgets/controls",
          "model_name": "ButtonModel",
          "model_module_version": "1.5.0",
          "state": {
            "_dom_classes": [],
            "_model_module": "@jupyter-widgets/controls",
            "_model_module_version": "1.5.0",
            "_model_name": "ButtonModel",
            "_view_count": null,
            "_view_module": "@jupyter-widgets/controls",
            "_view_module_version": "1.5.0",
            "_view_name": "ButtonView",
            "button_style": "",
            "description": "Ask",
            "disabled": false,
            "icon": "",
            "layout": "IPY_MODEL_260d4acf4ae240ffab48abc3c790ee5c",
            "style": "IPY_MODEL_23d913a08cf64646b879283960d0e5ea",
            "tooltip": ""
          }
        },
        "260d4acf4ae240ffab48abc3c790ee5c": {
          "model_module": "@jupyter-widgets/base",
          "model_name": "LayoutModel",
          "model_module_version": "1.2.0",
          "state": {
            "_model_module": "@jupyter-widgets/base",
            "_model_module_version": "1.2.0",
            "_model_name": "LayoutModel",
            "_view_count": null,
            "_view_module": "@jupyter-widgets/base",
            "_view_module_version": "1.2.0",
            "_view_name": "LayoutView",
            "align_content": null,
            "align_items": null,
            "align_self": null,
            "border": null,
            "bottom": null,
            "display": null,
            "flex": null,
            "flex_flow": null,
            "grid_area": null,
            "grid_auto_columns": null,
            "grid_auto_flow": null,
            "grid_auto_rows": null,
            "grid_column": null,
            "grid_gap": null,
            "grid_row": null,
            "grid_template_areas": null,
            "grid_template_columns": null,
            "grid_template_rows": null,
            "height": null,
            "justify_content": null,
            "justify_items": null,
            "left": null,
            "margin": null,
            "max_height": null,
            "max_width": null,
            "min_height": null,
            "min_width": null,
            "object_fit": null,
            "object_position": null,
            "order": null,
            "overflow": null,
            "overflow_x": null,
            "overflow_y": null,
            "padding": null,
            "right": null,
            "top": null,
            "visibility": null,
            "width": null
          }
        },
        "23d913a08cf64646b879283960d0e5ea": {
          "model_module": "@jupyter-widgets/controls",
          "model_name": "ButtonStyleModel",
          "model_module_version": "1.5.0",
          "state": {
            "_model_module": "@jupyter-widgets/controls",
            "_model_module_version": "1.5.0",
            "_model_name": "ButtonStyleModel",
            "_view_count": null,
            "_view_module": "@jupyter-widgets/base",
            "_view_module_version": "1.2.0",
            "_view_name": "StyleView",
            "button_color": null,
            "font_weight": ""
          }
        }
      }
    }
  },
  "cells": [
    {
      "cell_type": "code",
      "execution_count": null,
      "metadata": {
        "id": "bVA_s-BMW4Bs"
      },
      "outputs": [],
      "source": [
        "# Install the necessary packages\n",
        "!pip install openai pinecone-client ipywidgets\n",
        "\n",
        "import openai\n",
        "import pinecone\n",
        "import ipywidgets as widgets\n",
        "from IPython.display import display\n"
      ]
    },
    {
      "cell_type": "code",
      "source": [
        "# Set up OpenAI API key\n",
        "openai.api_key = \"openai-api-key\"\n",
        "\n",
        "# Function to generate a response from OpenAI's GPT model\n",
        "def generate_response(prompt):\n",
        "    try:\n",
        "        response = openai.Completion.create(\n",
        "            engine=\"text-davinci-003\",\n",
        "            prompt=prompt,\n",
        "            max_tokens=150\n",
        "        )\n",
        "        return response.choices[0].text.strip()\n",
        "    except Exception as e:\n",
        "        return str(e)\n"
      ],
      "metadata": {
        "id": "X7J6GRr_Ybwz"
      },
      "execution_count": null,
      "outputs": []
    },
    {
      "cell_type": "code",
      "source": [
        "# Initialize Pinecone\n",
        "pinecone.init(api_key=\"your-pinecone-api-key\", environment='us-west1-gcp')\n",
        "\n",
        "# Function to connect to a Pinecone index\n",
        "def connect_to_index(index_name):\n",
        "    if index_name not in pinecone.list_indexes():\n",
        "        pinecone.create_index(index_name, dimension=1536, metric='cosine')  # Dimension should match your vector size\n",
        "    return pinecone.Index(index_name)\n",
        "\n",
        "# Connect to Pinecone index (or create if it doesn't exist)\n",
        "index = connect_to_index(\"your-index-name\")  # Replace with your index name\n"
      ],
      "metadata": {
        "id": "Yr87mnTRYoYX"
      },
      "execution_count": null,
      "outputs": []
    },
    {
      "cell_type": "code",
      "source": [
        "def embed_text_with_openai(text):\n",
        "    response = openai.Embedding.create(\n",
        "        input=text,\n",
        "        model=\"text-embedding-ada-002\"\n",
        "    )\n",
        "    return response['data'][0]['embedding']"
      ],
      "metadata": {
        "id": "NqfWpxDBe4Ht"
      },
      "execution_count": null,
      "outputs": []
    },
    {
      "cell_type": "code",
      "source": [
        "def rag_answer(question):\n",
        "    # Convert question to vector using OpenAI's embedding model\n",
        "    question_vector = embed_text_with_openai(question)\n",
        "\n",
        "    # Query Pinecone with this vector\n",
        "    top_k_results = index.query([question_vector], top_k=3)\n",
        "\n",
        "    # Extract retrieved contexts\n",
        "    retrieved_contexts = [result['context'] for result in top_k_results['matches']]\n",
        "\n",
        "    # Formulate the prompt for OpenAI\n",
        "    prompt = f\"Question: {question}\\nContext: {' '.join(retrieved_contexts)}\\nAnswer:\"\n",
        "\n",
        "    # Generate response using OpenAI\n",
        "    response = generate_response(prompt)\n",
        "    return response\n"
      ],
      "metadata": {
        "id": "TW6KAYHgY0q2"
      },
      "execution_count": null,
      "outputs": []
    },
    {
      "cell_type": "code",
      "source": [
        "# Interactive Widgets for asking questions\n",
        "question_input = widgets.Text(\n",
        "    value='',\n",
        "    placeholder='Type your question here',\n",
        "    description='Question:',\n",
        "    disabled=False\n",
        ")\n",
        "\n",
        "def on_ask_button_clicked(b):\n",
        "    # Display the answer\n",
        "    answer = rag_answer(question_input.value)\n",
        "    print(\"Answer:\", answer)\n",
        "\n",
        "ask_button = widgets.Button(description=\"Ask\")\n",
        "ask_button.on_click(on_ask_button_clicked)\n",
        "\n",
        "display(question_input, ask_button)\n"
      ],
      "metadata": {
        "colab": {
          "base_uri": "https://localhost:8080/",
          "height": 320,
          "referenced_widgets": [
            "9436b6ae07ef47d19e2fafca82c301c5",
            "58993bf1cc6a42adb17d65a5f5bc08a0",
            "8504f1da1d9c4ccea914f110c53f3104",
            "7ea195cce0bd450392ac751c36cac47d",
            "260d4acf4ae240ffab48abc3c790ee5c",
            "23d913a08cf64646b879283960d0e5ea"
          ]
        },
        "id": "29Fu81bWayPO",
        "outputId": "b6eb94c0-9c7e-4dc6-d2e5-911fd453bd2b"
      },
      "execution_count": 4,
      "outputs": [
        {
          "output_type": "display_data",
          "data": {
            "text/plain": [
              "Text(value='', description='Question:', placeholder='Type your question here')"
            ],
            "application/vnd.jupyter.widget-view+json": {
              "version_major": 2,
              "version_minor": 0,
              "model_id": "9436b6ae07ef47d19e2fafca82c301c5"
            }
          },
          "metadata": {}
        },
        {
          "output_type": "display_data",
          "data": {
            "text/plain": [
              "Button(description='Ask', style=ButtonStyle())"
            ],
            "application/vnd.jupyter.widget-view+json": {
              "version_major": 2,
              "version_minor": 0,
              "model_id": "7ea195cce0bd450392ac751c36cac47d"
            }
          },
          "metadata": {}
        },
        {
          "output_type": "error",
          "ename": "NameError",
          "evalue": "name 'rag_answer' is not defined",
          "traceback": [
            "\u001b[0;31m---------------------------------------------------------------------------\u001b[0m",
            "\u001b[0;31mNameError\u001b[0m                                 Traceback (most recent call last)",
            "\u001b[0;32m<ipython-input-4-2cc1e1daeb59>\u001b[0m in \u001b[0;36mon_ask_button_clicked\u001b[0;34m(b)\u001b[0m\n\u001b[1;32m      9\u001b[0m \u001b[0;32mdef\u001b[0m \u001b[0mon_ask_button_clicked\u001b[0m\u001b[0;34m(\u001b[0m\u001b[0mb\u001b[0m\u001b[0;34m)\u001b[0m\u001b[0;34m:\u001b[0m\u001b[0;34m\u001b[0m\u001b[0;34m\u001b[0m\u001b[0m\n\u001b[1;32m     10\u001b[0m     \u001b[0;31m# Display the answer\u001b[0m\u001b[0;34m\u001b[0m\u001b[0;34m\u001b[0m\u001b[0m\n\u001b[0;32m---> 11\u001b[0;31m     \u001b[0manswer\u001b[0m \u001b[0;34m=\u001b[0m \u001b[0mrag_answer\u001b[0m\u001b[0;34m(\u001b[0m\u001b[0mquestion_input\u001b[0m\u001b[0;34m.\u001b[0m\u001b[0mvalue\u001b[0m\u001b[0;34m)\u001b[0m\u001b[0;34m\u001b[0m\u001b[0;34m\u001b[0m\u001b[0m\n\u001b[0m\u001b[1;32m     12\u001b[0m     \u001b[0mprint\u001b[0m\u001b[0;34m(\u001b[0m\u001b[0;34m\"Answer:\"\u001b[0m\u001b[0;34m,\u001b[0m \u001b[0manswer\u001b[0m\u001b[0;34m)\u001b[0m\u001b[0;34m\u001b[0m\u001b[0;34m\u001b[0m\u001b[0m\n\u001b[1;32m     13\u001b[0m \u001b[0;34m\u001b[0m\u001b[0m\n",
            "\u001b[0;31mNameError\u001b[0m: name 'rag_answer' is not defined"
          ]
        }
      ]
    }
  ]
}